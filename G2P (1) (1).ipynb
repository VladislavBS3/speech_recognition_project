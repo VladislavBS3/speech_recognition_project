{
 "cells": [
  {
   "cell_type": "markdown",
   "id": "501ad9cb",
   "metadata": {},
   "source": [
    "## Grapheme2Phoneme"
   ]
  },
  {
   "cell_type": "markdown",
   "id": "37ed52d7",
   "metadata": {},
   "source": [
    "Исходный проект: https://github.com/kdorichev/russian_g2p/tree/master"
   ]
  },
  {
   "cell_type": "markdown",
   "id": "348f09e2",
   "metadata": {},
   "source": [
    "Русский проект (один из создателей вёл лекцию, которую скидывал Миша)\n",
    "\n",
    "Позволяет: \n",
    "\n",
    "- Автоматически расставлять ударения в известных модели словах\n",
    "- Транскрибировать, т.е. переводить буквы слова (которые пишут) в фонемы (которые произносят)"
   ]
  },
  {
   "cell_type": "code",
   "execution_count": 11,
   "id": "cb1f9ab0",
   "metadata": {},
   "outputs": [],
   "source": [
    "from russian_g2p.Accentor import Accentor  # модуль, отвечающий за расстановку ударений\n",
    "from russian_g2p.Grapheme2Phoneme import Grapheme2Phoneme # модуль, отвечающий за транскрибирование"
   ]
  },
  {
   "cell_type": "code",
   "execution_count": 40,
   "id": "f97b9147",
   "metadata": {},
   "outputs": [],
   "source": [
    "data_set = [  # эталонный набор Миши\n",
    "    'лис',\n",
    "    'жук',\n",
    "    'мир',\n",
    "    'мощь',\n",
    "    'бич',\n",
    "    'зять',\n",
    "    'шах',\n",
    "    'царь',\n",
    "    'фон',\n",
    "    'суп',\n",
    "    'любимый',\n",
    "    'обязательно',\n",
    "    'хорошо',\n",
    "    'женщина',\n",
    "    'помогать',\n",
    "    'офицер',\n",
    "    'химический',\n",
    "    'наблюдать',\n",
    "    'девушка',\n",
    "    'составлять',\n",
    "    'голосистыйскворец',\n",
    "    'бабушкинаматрёшка',\n",
    "    'месторождениезолота',\n",
    "    'коричневаяциновка',\n",
    "    'пуховыйплаток',\n",
    "    'серебристаяящерица',\n",
    "    'милыйбегемотик',\n",
    "    'быстроходныйкатерперевозилпассажировчерезозеро',\n",
    "    'лидаподсказаладашедомашнеезадание',\n",
    "    'апельсиновыйлимонадналиливхрустальныйграфин',\n",
    "    'вэтомпомещенииработаютучёные',\n",
    "    'усофиинасарафаненовыепуговицы'\n",
    "]"
   ]
  },
  {
   "cell_type": "markdown",
   "id": "579084f6",
   "metadata": {},
   "source": [
    "### Расстановка ударений"
   ]
  },
  {
   "cell_type": "code",
   "execution_count": 104,
   "id": "1bfa751f",
   "metadata": {},
   "outputs": [],
   "source": [
    "accentor = Accentor() # модель, расстанавливающая ударения для известных ей слов"
   ]
  },
  {
   "cell_type": "markdown",
   "id": "4ad3b30d",
   "metadata": {},
   "source": [
    "##### ОСОБЕННОСТЬ ACCENTOR'a - принимает на вход только списки списков\n",
    "\n",
    "- т.е. одно слово будет подаваться как [['слово']]"
   ]
  },
  {
   "cell_type": "code",
   "execution_count": 105,
   "id": "66aa348b",
   "metadata": {},
   "outputs": [
    {
     "data": {
      "text/plain": [
       "[['сарафа+н', 'офице+р', 'цыновка', 'мо+щь']]"
      ]
     },
     "execution_count": 105,
     "metadata": {},
     "output_type": "execute_result"
    }
   ],
   "source": [
    "accentor.do_accents([['сарафан'],['офицер'],['цыновка'],['мощь']]) "
   ]
  },
  {
   "cell_type": "markdown",
   "id": "fb8fd71e",
   "metadata": {},
   "source": [
    "##### Как видим, некоторые слова для неё неизвестны, но, тем не менее, она их выдаёт (пусть и без изменений)"
   ]
  },
  {
   "cell_type": "markdown",
   "id": "cf5745b4",
   "metadata": {},
   "source": [
    "### Транскрибирование"
   ]
  },
  {
   "cell_type": "code",
   "execution_count": 99,
   "id": "2905aa1d",
   "metadata": {},
   "outputs": [],
   "source": [
    "transcriptor = Grapheme2Phoneme() # модель, переводящая ВСЕ слова в фонетический вид"
   ]
  },
  {
   "cell_type": "code",
   "execution_count": 100,
   "id": "9d1e873f",
   "metadata": {},
   "outputs": [
    {
     "data": {
      "text/plain": [
       "['B0', 'I', 'G0', 'I', 'M', 'O0', 'T']"
      ]
     },
     "execution_count": 100,
     "metadata": {},
     "output_type": "execute_result"
    }
   ],
   "source": [
    "transcriptor.word_to_phonemes('бегемо+т')"
   ]
  },
  {
   "cell_type": "code",
   "execution_count": 101,
   "id": "f0f8698d",
   "metadata": {},
   "outputs": [
    {
     "name": "stderr",
     "output_type": "stream",
     "text": [
      "C:\\Users\\HP\\Project Recognition\\g2p\\russian_g2p\\Grapheme2Phoneme.py:96: UserWarning: `бегемот`: the accent for this word is unknown!\n",
      "  warnings.warn(f'`{source_word}`: the accent for this word is unknown!')\n"
     ]
    },
    {
     "data": {
      "text/plain": [
       "['B0', 'I', 'G0', 'I', 'M', 'A', 'T']"
      ]
     },
     "execution_count": 101,
     "metadata": {},
     "output_type": "execute_result"
    }
   ],
   "source": [
    "transcriptor.word_to_phonemes('бегемот') # если на букве О не стоит ударение, но расценивается как А"
   ]
  },
  {
   "cell_type": "markdown",
   "id": "f5c8dae0",
   "metadata": {},
   "source": [
    "##### Как и в первом случае, для слов без ударение выход выдаётся имеется, ОДНАКО:\n",
    "\n",
    "- Если в слове буква \"О\" является ударной\n",
    "- Если это не было выявленно на предыдущем этапе\n",
    "\n",
    "На месте \"О\" ставится её безударная форма произношения: \"А\""
   ]
  },
  {
   "cell_type": "markdown",
   "id": "b71461d8",
   "metadata": {},
   "source": [
    "Т.к. с помощью функции получилось определить ударение лишь первых 20 слов, ударение во фразах были расставлены вручную "
   ]
  },
  {
   "cell_type": "code",
   "execution_count": 113,
   "id": "0147b4e0",
   "metadata": {},
   "outputs": [],
   "source": [
    "accented_original_list = ['ли+с',\n",
    "  'жу+к',\n",
    "  'ми+р',\n",
    "  'мо+щь',\n",
    "  'би+ч',\n",
    "  'зя+ть',\n",
    "  'ша+х',\n",
    "  'ца+рь',\n",
    "  'фо+н',\n",
    "  'су+п',\n",
    "  'люби+мый',\n",
    "  'обяза+тельно',\n",
    "  'хорошо+',\n",
    "  'же+нщина',\n",
    "  'помога+ть',\n",
    "  'офице+р',\n",
    "  'хими+ческий',\n",
    "  'наблюда+ть',\n",
    "  'де+вушка',\n",
    "  'составля+ть',\n",
    "  'голоси+стыйскворе+ц',\n",
    "  'ба+бушкинаматрёшка',\n",
    "  'месторожде+ниезо+лота',\n",
    "  'коричневаяцино+вка',\n",
    "  'пухо+выйплато+к',\n",
    "  'серебри+стая+ящерица',\n",
    "  'милыйбегемо+тик',\n",
    "  'быстрохо+дныйка+терперевози+лпассажи+ровче+резо+зеро',\n",
    "  'ли+даподсказа+лада+шедома+шнеезада+ние',\n",
    "  'апельси+новыйлимона+днали+ливхруста+льныйграфи+н',\n",
    "  'вэ+томпомеще+ниирабо+таютучёные',\n",
    "  'усофи+инасарафа+нено+выепу+говицы']"
   ]
  },
  {
   "cell_type": "markdown",
   "id": "53fd7ef8",
   "metadata": {},
   "source": [
    "### Набор эталонных транскрипций"
   ]
  },
  {
   "cell_type": "code",
   "execution_count": 139,
   "id": "362656f6",
   "metadata": {},
   "outputs": [
    {
     "data": {
      "text/plain": [
       "[['L0', 'I0', 'S'],\n",
       " ['ZH', 'U0', 'K'],\n",
       " ['M0', 'I0', 'R'],\n",
       " ['M', 'O0', 'SH0'],\n",
       " ['B0', 'I0', 'TSH0'],\n",
       " ['Z0', 'A0', 'T0'],\n",
       " ['SH', 'A0', 'KH'],\n",
       " ['TS', 'A0', 'R0'],\n",
       " ['F', 'O0', 'N'],\n",
       " ['S', 'U0', 'P']]"
      ]
     },
     "execution_count": 139,
     "metadata": {},
     "output_type": "execute_result"
    }
   ],
   "source": [
    "transcribed_original_list = [transcriptor.word_to_phonemes(i) for i in accented_original_list]\n",
    "transcribed_original_list[:10]"
   ]
  },
  {
   "cell_type": "code",
   "execution_count": 137,
   "id": "c5f194be",
   "metadata": {},
   "outputs": [
    {
     "data": {
      "text/plain": [
       "['A-F0-I-TS-E0-R',\n",
       " 'KH0-I-M0-I0-TSH0-I-S-K0-I-J0',\n",
       " 'N-A-B-L0-U-D-A0-T0',\n",
       " 'D0-E0-V-U-SH-K-A',\n",
       " 'S-A-S-T-A-V-L0-A0-T0',\n",
       " 'G-A-L-A-S0-I0-S-T-Y-J0-S-K-V-A-R0-E0-TS',\n",
       " 'B-A0-B-U-SH-K0-I-N-A-M-A-T-R0-O-SH-K-A',\n",
       " 'M0-I-S-T-A-R-A-ZH-D0-E0-N0-I-J0-I-Z-O0-L-A-T-A',\n",
       " 'K-A-R0-I-TSH0-N0-I-V-A-J0-I-TS-Y-N-O0-F-K-A',\n",
       " 'P-U-KH-O0-V-Y-J0-P-L-A-T-O0-K']"
      ]
     },
     "execution_count": 137,
     "metadata": {},
     "output_type": "execute_result"
    }
   ],
   "source": [
    "joined_trans_org_list = ['-'.join(i) for i in transcribed_original_list]\n",
    "joined_trans_org_list[15:25]"
   ]
  },
  {
   "cell_type": "markdown",
   "id": "5901848b",
   "metadata": {},
   "source": [
    "Т.к. Whisper не сглаживает ошибки мы можем переводить распознанный текст в фонетическую форму для дальнейшей оценки/сравнения"
   ]
  },
  {
   "cell_type": "markdown",
   "id": "958f6e2f",
   "metadata": {},
   "source": [
    "###  При выявлении ошибок, акцент делается на замены СОГЛАСНЫХ, поэтому:\n",
    "\n",
    "- Цель номер 1 - сравнение слов без учёта возможных несоответствий ударений (чтобы научиться выявлять **конкретные замены** согласных (Ц-С)\n",
    "- Цель номер 2 - определение ударений как в неизвестных модели словах, так и в словах с аудиозаписей (чтоб не ухудшать оценку произношения там, где ошибки нет (прим. человек произносит слово верно, но из-за нераспознанной ударной О программа засчитывает ошибку))"
   ]
  }
 ],
 "metadata": {
  "kernelspec": {
   "display_name": "Python 3 (ipykernel)",
   "language": "python",
   "name": "python3"
  },
  "language_info": {
   "codemirror_mode": {
    "name": "ipython",
    "version": 3
   },
   "file_extension": ".py",
   "mimetype": "text/x-python",
   "name": "python",
   "nbconvert_exporter": "python",
   "pygments_lexer": "ipython3",
   "version": "3.9.13"
  }
 },
 "nbformat": 4,
 "nbformat_minor": 5
}
